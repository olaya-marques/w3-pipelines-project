{
 "cells": [
  {
   "cell_type": "markdown",
   "id": "ccee6caa",
   "metadata": {},
   "source": [
    "# Webscraping 👩🏼‍💻"
   ]
  },
  {
   "cell_type": "markdown",
   "id": "0038514c",
   "metadata": {},
   "source": [
    "En este jupyter notebook se encuentra todo el proceso de exportación de datos y su posterior limpieza utilizando la herramienta de webscraping. Las fuentes empleadas han sido Wikipedia y Indexmundi"
   ]
  },
  {
   "cell_type": "markdown",
   "id": "684a12f9",
   "metadata": {},
   "source": [
    "*Consideraciones*"
   ]
  },
  {
   "cell_type": "markdown",
   "id": "21aaf6e6",
   "metadata": {},
   "source": [
    "De nuevo, sólo se tendrán en cuenta los 11 países seleccionados para el estudio: España, Francia, Italia, Grecia, Turquia, USA, China, India, Mexico, Nueva Zelanda, Reino Unido."
   ]
  },
  {
   "cell_type": "markdown",
   "id": "b902519a",
   "metadata": {},
   "source": [
    "## Índice 📎"
   ]
  },
  {
   "cell_type": "markdown",
   "id": "1a12fc07",
   "metadata": {},
   "source": [
    "1. Importación de librerías y funciones\n",
    "2. Extracción de datos\n",
    "3. Limpieza de datos\n",
    "4. Exportación del dataset final\n",
    "5. Extra"
   ]
  },
  {
   "cell_type": "markdown",
   "id": "be74f5f5",
   "metadata": {},
   "source": [
    "## 1. Importación de librerías y funciones 📚"
   ]
  },
  {
   "cell_type": "code",
   "execution_count": 1,
   "id": "38fe9945",
   "metadata": {},
   "outputs": [],
   "source": [
    "import requests\n",
    "from bs4 import BeautifulSoup\n",
    "import pandas as pd"
   ]
  },
  {
   "cell_type": "markdown",
   "id": "ffa3f60d",
   "metadata": {},
   "source": [
    "## 2. Extracción de datos 🎣"
   ]
  },
  {
   "cell_type": "markdown",
   "id": "3dd3c1c6",
   "metadata": {},
   "source": [
    "Con el propósito de enriquecer nuestra base de datos se procederá a extraer los datos en materia al índice de obesidad de los países seleccionados para el caso de estudio. Para ello la fuente escogida será Wikipedia: List of countries by obesity rate. "
   ]
  },
  {
   "cell_type": "code",
   "execution_count": 2,
   "id": "8ed4d9e1",
   "metadata": {},
   "outputs": [],
   "source": [
    "url_obesidad = \"https://en.wikipedia.org/wiki/List_of_countries_by_obesity_rate\""
   ]
  },
  {
   "cell_type": "code",
   "execution_count": 3,
   "id": "6177f7c3",
   "metadata": {},
   "outputs": [],
   "source": [
    "html_obesidad = requests.get(url_obesidad)"
   ]
  },
  {
   "cell_type": "code",
   "execution_count": 4,
   "id": "57e54bf6",
   "metadata": {},
   "outputs": [],
   "source": [
    "soup = BeautifulSoup(html_obesidad.content, \"html.parser\")"
   ]
  },
  {
   "cell_type": "markdown",
   "id": "acaefe69",
   "metadata": {},
   "source": [
    "Primero debemos seleccionar los datos que queremos obtener (en nuestro caso serían los referentes a la primera tabla). Empezamos inspeccionando la página, y localizando la tabla que queremos obtener en el código de html.\n",
    "\n",
    "*(Véase __[Tabla1](\"https://user-images.githubusercontent.com/64830147/122656508-8d6ea580-d15b-11eb-97b1-ae8f294900bc.png\")__)*"
   ]
  },
  {
   "cell_type": "markdown",
   "id": "2b953dd2",
   "metadata": {},
   "source": [
    "Observamos que se encuentra dentro de un tag llamado \"table\". Abrimos la consola y mediante la siguiente función la filtramos para comprobar si mediante ese filtro podemos seleccionar la información deseada: "
   ]
  },
  {
   "cell_type": "markdown",
   "id": "cd973b36",
   "metadata": {},
   "source": [
    "document.querySelectorAll(\"Table\").forEach(elm => elm.style.background = \"red\")"
   ]
  },
  {
   "cell_type": "markdown",
   "id": "f923893b",
   "metadata": {},
   "source": [
    "Filtramos y selecionamos por el tag ➡️ \"table\". Nos encontramos con el problema de que existen dos tablas de las cuales yo sólo necesito la primera. "
   ]
  },
  {
   "cell_type": "markdown",
   "id": "77e4c95e",
   "metadata": {},
   "source": [
    "\n",
    "Volviendo al código html observamos que seguido del tag hay una clase, por la cual podemos seleccionar. Introducimos de nuevo la función en la consola pero esta vez añadiendo el nombre de la clase, obteniendo así la tabla deseada."
   ]
  },
  {
   "cell_type": "markdown",
   "id": "84e8a69b",
   "metadata": {},
   "source": [
    "document.querySelectorAll('table.wikitable.sortable').forEach(elm => elm.style.background = \"blue\")"
   ]
  },
  {
   "cell_type": "markdown",
   "id": "90b62766",
   "metadata": {},
   "source": [
    "*Seleccionamos la tabla empleamos la función soup ➡️ soup.find_all(name=tag_name, class_=class_name)*"
   ]
  },
  {
   "cell_type": "code",
   "execution_count": 5,
   "id": "7d0e9daf",
   "metadata": {},
   "outputs": [],
   "source": [
    "table = soup.find_all(\"table\",{\"class\":\"wikitable sortable\"})[0]\n",
    "#Con css selectors\n",
    "#table = soup.select(\"wiki sortable\") "
   ]
  },
  {
   "cell_type": "markdown",
   "id": "76ce6145",
   "metadata": {},
   "source": [
    "A continuación seleccionamos las filas a través del tag \"tr\": "
   ]
  },
  {
   "cell_type": "code",
   "execution_count": 6,
   "id": "f56966bd",
   "metadata": {},
   "outputs": [],
   "source": [
    "rows = table.find_all(\"tr\")"
   ]
  },
  {
   "cell_type": "markdown",
   "id": "f6bea835",
   "metadata": {},
   "source": [
    "Reorganizamos la tabla y ajustamos el diseño de los datos para más tarde poder construir el dataset:"
   ]
  },
  {
   "cell_type": "code",
   "execution_count": 7,
   "id": "d9a9f34d",
   "metadata": {},
   "outputs": [
    {
     "data": {
      "text/plain": [
       "[['Country', 'Rank', 'Obesity rate% (2016)'], ['Nauru', '1', '61.00']]"
      ]
     },
     "execution_count": 7,
     "metadata": {},
     "output_type": "execute_result"
    }
   ],
   "source": [
    "#rows = [row.text.strip().split(\"\\n\") for row in rows]\n",
    "rows = [row.text.replace(\"\\n\\n\", \",\").replace(\"\\n\", \",\").replace(\"\\xa0\", \"\").strip(\",\").split(\",\") for row in rows]\n",
    "rows [:2]"
   ]
  },
  {
   "cell_type": "markdown",
   "id": "61b712ce",
   "metadata": {},
   "source": [
    "Creamos el dataset:"
   ]
  },
  {
   "cell_type": "code",
   "execution_count": 8,
   "id": "ad39e999",
   "metadata": {},
   "outputs": [
    {
     "data": {
      "text/html": [
       "<div>\n",
       "<style scoped>\n",
       "    .dataframe tbody tr th:only-of-type {\n",
       "        vertical-align: middle;\n",
       "    }\n",
       "\n",
       "    .dataframe tbody tr th {\n",
       "        vertical-align: top;\n",
       "    }\n",
       "\n",
       "    .dataframe thead th {\n",
       "        text-align: right;\n",
       "    }\n",
       "</style>\n",
       "<table border=\"1\" class=\"dataframe\">\n",
       "  <thead>\n",
       "    <tr style=\"text-align: right;\">\n",
       "      <th></th>\n",
       "      <th>Country</th>\n",
       "      <th>Rank</th>\n",
       "      <th>Obesity rate% (2016)</th>\n",
       "    </tr>\n",
       "  </thead>\n",
       "  <tbody>\n",
       "    <tr>\n",
       "      <th>0</th>\n",
       "      <td>Nauru</td>\n",
       "      <td>1</td>\n",
       "      <td>61.00</td>\n",
       "    </tr>\n",
       "    <tr>\n",
       "      <th>1</th>\n",
       "      <td>Cook Islands</td>\n",
       "      <td>2</td>\n",
       "      <td>55.90</td>\n",
       "    </tr>\n",
       "    <tr>\n",
       "      <th>2</th>\n",
       "      <td>Palau</td>\n",
       "      <td>3</td>\n",
       "      <td>55.30</td>\n",
       "    </tr>\n",
       "    <tr>\n",
       "      <th>3</th>\n",
       "      <td>Marshall Islands</td>\n",
       "      <td>4</td>\n",
       "      <td>52.90</td>\n",
       "    </tr>\n",
       "    <tr>\n",
       "      <th>4</th>\n",
       "      <td>Tuvalu</td>\n",
       "      <td>5</td>\n",
       "      <td>51.60</td>\n",
       "    </tr>\n",
       "    <tr>\n",
       "      <th>5</th>\n",
       "      <td>Niue</td>\n",
       "      <td>6</td>\n",
       "      <td>50.00</td>\n",
       "    </tr>\n",
       "    <tr>\n",
       "      <th>6</th>\n",
       "      <td>Tonga</td>\n",
       "      <td>7</td>\n",
       "      <td>48.20</td>\n",
       "    </tr>\n",
       "    <tr>\n",
       "      <th>7</th>\n",
       "      <td>Samoa</td>\n",
       "      <td>8</td>\n",
       "      <td>47.30</td>\n",
       "    </tr>\n",
       "    <tr>\n",
       "      <th>8</th>\n",
       "      <td>Kiribati</td>\n",
       "      <td>9</td>\n",
       "      <td>46.00</td>\n",
       "    </tr>\n",
       "    <tr>\n",
       "      <th>9</th>\n",
       "      <td>Federated States of Micronesia</td>\n",
       "      <td>10</td>\n",
       "      <td>45.80</td>\n",
       "    </tr>\n",
       "  </tbody>\n",
       "</table>\n",
       "</div>"
      ],
      "text/plain": [
       "                          Country Rank Obesity rate% (2016)\n",
       "0                           Nauru    1                61.00\n",
       "1                    Cook Islands    2                55.90\n",
       "2                           Palau    3                55.30\n",
       "3                Marshall Islands    4                52.90\n",
       "4                          Tuvalu    5                51.60\n",
       "5                            Niue    6                50.00\n",
       "6                           Tonga    7                48.20\n",
       "7                           Samoa    8                47.30\n",
       "8                        Kiribati    9                46.00\n",
       "9  Federated States of Micronesia   10                45.80"
      ]
     },
     "execution_count": 8,
     "metadata": {},
     "output_type": "execute_result"
    }
   ],
   "source": [
    "nombre_columnas = rows[0]\n",
    "data = rows[1:]\n",
    "obesidad = pd.DataFrame(data, columns=nombre_columnas)\n",
    "obesidad.head(10)"
   ]
  },
  {
   "cell_type": "code",
   "execution_count": 9,
   "id": "704aeef0",
   "metadata": {},
   "outputs": [],
   "source": [
    "#Exportamos la base de datos original para evitar perder datos\n",
    "obesidad_data0 = obesidad\n",
    "obesidad_data0.to_csv(\"./obesidad_data0.csv\")"
   ]
  },
  {
   "cell_type": "markdown",
   "id": "778e21e1",
   "metadata": {},
   "source": [
    "## 3. Limpieza de datos 🧹"
   ]
  },
  {
   "cell_type": "code",
   "execution_count": 10,
   "id": "9b99dc10",
   "metadata": {},
   "outputs": [],
   "source": [
    "#Importamos el dataset\n",
    "obesidad2 = pd.read_csv(\"./obesidad_data0.csv\")\n",
    "obesidad2.columns =  obesidad2.columns.str.rstrip() #Elimina los espacios al final de cada título en las columnas"
   ]
  },
  {
   "cell_type": "code",
   "execution_count": 11,
   "id": "f8beb8c9",
   "metadata": {},
   "outputs": [
    {
     "data": {
      "text/html": [
       "<div>\n",
       "<style scoped>\n",
       "    .dataframe tbody tr th:only-of-type {\n",
       "        vertical-align: middle;\n",
       "    }\n",
       "\n",
       "    .dataframe tbody tr th {\n",
       "        vertical-align: top;\n",
       "    }\n",
       "\n",
       "    .dataframe thead th {\n",
       "        text-align: right;\n",
       "    }\n",
       "</style>\n",
       "<table border=\"1\" class=\"dataframe\">\n",
       "  <thead>\n",
       "    <tr style=\"text-align: right;\">\n",
       "      <th></th>\n",
       "      <th>Unnamed: 0</th>\n",
       "      <th>Country</th>\n",
       "      <th>Rank</th>\n",
       "      <th>Obesity rate% (2016)</th>\n",
       "    </tr>\n",
       "  </thead>\n",
       "  <tbody>\n",
       "    <tr>\n",
       "      <th>0</th>\n",
       "      <td>0</td>\n",
       "      <td>Nauru</td>\n",
       "      <td>1</td>\n",
       "      <td>61.0</td>\n",
       "    </tr>\n",
       "    <tr>\n",
       "      <th>1</th>\n",
       "      <td>1</td>\n",
       "      <td>Cook Islands</td>\n",
       "      <td>2</td>\n",
       "      <td>55.9</td>\n",
       "    </tr>\n",
       "    <tr>\n",
       "      <th>2</th>\n",
       "      <td>2</td>\n",
       "      <td>Palau</td>\n",
       "      <td>3</td>\n",
       "      <td>55.3</td>\n",
       "    </tr>\n",
       "    <tr>\n",
       "      <th>3</th>\n",
       "      <td>3</td>\n",
       "      <td>Marshall Islands</td>\n",
       "      <td>4</td>\n",
       "      <td>52.9</td>\n",
       "    </tr>\n",
       "    <tr>\n",
       "      <th>4</th>\n",
       "      <td>4</td>\n",
       "      <td>Tuvalu</td>\n",
       "      <td>5</td>\n",
       "      <td>51.6</td>\n",
       "    </tr>\n",
       "    <tr>\n",
       "      <th>...</th>\n",
       "      <td>...</td>\n",
       "      <td>...</td>\n",
       "      <td>...</td>\n",
       "      <td>...</td>\n",
       "    </tr>\n",
       "    <tr>\n",
       "      <th>186</th>\n",
       "      <td>186</td>\n",
       "      <td>Cambodia</td>\n",
       "      <td>187</td>\n",
       "      <td>3.9</td>\n",
       "    </tr>\n",
       "    <tr>\n",
       "      <th>187</th>\n",
       "      <td>187</td>\n",
       "      <td>India</td>\n",
       "      <td>188</td>\n",
       "      <td>3.9</td>\n",
       "    </tr>\n",
       "    <tr>\n",
       "      <th>188</th>\n",
       "      <td>188</td>\n",
       "      <td>Timor-Leste</td>\n",
       "      <td>189</td>\n",
       "      <td>3.8</td>\n",
       "    </tr>\n",
       "    <tr>\n",
       "      <th>189</th>\n",
       "      <td>189</td>\n",
       "      <td>Bangladesh</td>\n",
       "      <td>190</td>\n",
       "      <td>3.6</td>\n",
       "    </tr>\n",
       "    <tr>\n",
       "      <th>190</th>\n",
       "      <td>190</td>\n",
       "      <td>Vietnam</td>\n",
       "      <td>191</td>\n",
       "      <td>2.1</td>\n",
       "    </tr>\n",
       "  </tbody>\n",
       "</table>\n",
       "<p>191 rows × 4 columns</p>\n",
       "</div>"
      ],
      "text/plain": [
       "     Unnamed: 0           Country  Rank  Obesity rate% (2016)\n",
       "0             0             Nauru     1                  61.0\n",
       "1             1      Cook Islands     2                  55.9\n",
       "2             2             Palau     3                  55.3\n",
       "3             3  Marshall Islands     4                  52.9\n",
       "4             4            Tuvalu     5                  51.6\n",
       "..          ...               ...   ...                   ...\n",
       "186         186          Cambodia   187                   3.9\n",
       "187         187             India   188                   3.9\n",
       "188         188       Timor-Leste   189                   3.8\n",
       "189         189        Bangladesh   190                   3.6\n",
       "190         190           Vietnam   191                   2.1\n",
       "\n",
       "[191 rows x 4 columns]"
      ]
     },
     "execution_count": 11,
     "metadata": {},
     "output_type": "execute_result"
    }
   ],
   "source": [
    "obesidad2"
   ]
  },
  {
   "cell_type": "markdown",
   "id": "6c76c415",
   "metadata": {},
   "source": [
    "Para empezar eliminaremos la columna de \"Rank\" puesto que dicha información no resulta necesaria para nuestro estudio. "
   ]
  },
  {
   "cell_type": "code",
   "execution_count": 12,
   "id": "61ea4151",
   "metadata": {},
   "outputs": [
    {
     "data": {
      "text/html": [
       "<div>\n",
       "<style scoped>\n",
       "    .dataframe tbody tr th:only-of-type {\n",
       "        vertical-align: middle;\n",
       "    }\n",
       "\n",
       "    .dataframe tbody tr th {\n",
       "        vertical-align: top;\n",
       "    }\n",
       "\n",
       "    .dataframe thead th {\n",
       "        text-align: right;\n",
       "    }\n",
       "</style>\n",
       "<table border=\"1\" class=\"dataframe\">\n",
       "  <thead>\n",
       "    <tr style=\"text-align: right;\">\n",
       "      <th></th>\n",
       "      <th>Country</th>\n",
       "      <th>Obesity rate% (2016)</th>\n",
       "    </tr>\n",
       "  </thead>\n",
       "  <tbody>\n",
       "    <tr>\n",
       "      <th>0</th>\n",
       "      <td>Nauru</td>\n",
       "      <td>61.00</td>\n",
       "    </tr>\n",
       "    <tr>\n",
       "      <th>1</th>\n",
       "      <td>Cook Islands</td>\n",
       "      <td>55.90</td>\n",
       "    </tr>\n",
       "    <tr>\n",
       "      <th>2</th>\n",
       "      <td>Palau</td>\n",
       "      <td>55.30</td>\n",
       "    </tr>\n",
       "    <tr>\n",
       "      <th>3</th>\n",
       "      <td>Marshall Islands</td>\n",
       "      <td>52.90</td>\n",
       "    </tr>\n",
       "    <tr>\n",
       "      <th>4</th>\n",
       "      <td>Tuvalu</td>\n",
       "      <td>51.60</td>\n",
       "    </tr>\n",
       "    <tr>\n",
       "      <th>...</th>\n",
       "      <td>...</td>\n",
       "      <td>...</td>\n",
       "    </tr>\n",
       "    <tr>\n",
       "      <th>186</th>\n",
       "      <td>Cambodia</td>\n",
       "      <td>3.90</td>\n",
       "    </tr>\n",
       "    <tr>\n",
       "      <th>187</th>\n",
       "      <td>India</td>\n",
       "      <td>3.90</td>\n",
       "    </tr>\n",
       "    <tr>\n",
       "      <th>188</th>\n",
       "      <td>Timor-Leste</td>\n",
       "      <td>3.80</td>\n",
       "    </tr>\n",
       "    <tr>\n",
       "      <th>189</th>\n",
       "      <td>Bangladesh</td>\n",
       "      <td>3.60</td>\n",
       "    </tr>\n",
       "    <tr>\n",
       "      <th>190</th>\n",
       "      <td>Vietnam</td>\n",
       "      <td>2.10</td>\n",
       "    </tr>\n",
       "  </tbody>\n",
       "</table>\n",
       "<p>191 rows × 2 columns</p>\n",
       "</div>"
      ],
      "text/plain": [
       "              Country Obesity rate% (2016)\n",
       "0               Nauru                61.00\n",
       "1        Cook Islands                55.90\n",
       "2               Palau                55.30\n",
       "3    Marshall Islands                52.90\n",
       "4              Tuvalu                51.60\n",
       "..                ...                  ...\n",
       "186          Cambodia                 3.90\n",
       "187             India                 3.90\n",
       "188       Timor-Leste                 3.80\n",
       "189        Bangladesh                 3.60\n",
       "190           Vietnam                 2.10\n",
       "\n",
       "[191 rows x 2 columns]"
      ]
     },
     "execution_count": 12,
     "metadata": {},
     "output_type": "execute_result"
    }
   ],
   "source": [
    "obesidad2 = obesidad.drop([\"Rank\"], axis=1)\n",
    "obesidad2"
   ]
  },
  {
   "cell_type": "markdown",
   "id": "20010b6a",
   "metadata": {},
   "source": [
    "Renombramos las columnas para facilitar su legibilidad"
   ]
  },
  {
   "cell_type": "code",
   "execution_count": 13,
   "id": "a2dddfca",
   "metadata": {},
   "outputs": [],
   "source": [
    "columnas = [\"country\",\"%obesity\"]"
   ]
  },
  {
   "cell_type": "code",
   "execution_count": 14,
   "id": "67706859",
   "metadata": {},
   "outputs": [
    {
     "data": {
      "text/html": [
       "<div>\n",
       "<style scoped>\n",
       "    .dataframe tbody tr th:only-of-type {\n",
       "        vertical-align: middle;\n",
       "    }\n",
       "\n",
       "    .dataframe tbody tr th {\n",
       "        vertical-align: top;\n",
       "    }\n",
       "\n",
       "    .dataframe thead th {\n",
       "        text-align: right;\n",
       "    }\n",
       "</style>\n",
       "<table border=\"1\" class=\"dataframe\">\n",
       "  <thead>\n",
       "    <tr style=\"text-align: right;\">\n",
       "      <th></th>\n",
       "      <th>country</th>\n",
       "      <th>%obesity</th>\n",
       "    </tr>\n",
       "  </thead>\n",
       "  <tbody>\n",
       "    <tr>\n",
       "      <th>0</th>\n",
       "      <td>Nauru</td>\n",
       "      <td>61.00</td>\n",
       "    </tr>\n",
       "    <tr>\n",
       "      <th>1</th>\n",
       "      <td>Cook Islands</td>\n",
       "      <td>55.90</td>\n",
       "    </tr>\n",
       "    <tr>\n",
       "      <th>2</th>\n",
       "      <td>Palau</td>\n",
       "      <td>55.30</td>\n",
       "    </tr>\n",
       "    <tr>\n",
       "      <th>3</th>\n",
       "      <td>Marshall Islands</td>\n",
       "      <td>52.90</td>\n",
       "    </tr>\n",
       "    <tr>\n",
       "      <th>4</th>\n",
       "      <td>Tuvalu</td>\n",
       "      <td>51.60</td>\n",
       "    </tr>\n",
       "    <tr>\n",
       "      <th>...</th>\n",
       "      <td>...</td>\n",
       "      <td>...</td>\n",
       "    </tr>\n",
       "    <tr>\n",
       "      <th>186</th>\n",
       "      <td>Cambodia</td>\n",
       "      <td>3.90</td>\n",
       "    </tr>\n",
       "    <tr>\n",
       "      <th>187</th>\n",
       "      <td>India</td>\n",
       "      <td>3.90</td>\n",
       "    </tr>\n",
       "    <tr>\n",
       "      <th>188</th>\n",
       "      <td>Timor-Leste</td>\n",
       "      <td>3.80</td>\n",
       "    </tr>\n",
       "    <tr>\n",
       "      <th>189</th>\n",
       "      <td>Bangladesh</td>\n",
       "      <td>3.60</td>\n",
       "    </tr>\n",
       "    <tr>\n",
       "      <th>190</th>\n",
       "      <td>Vietnam</td>\n",
       "      <td>2.10</td>\n",
       "    </tr>\n",
       "  </tbody>\n",
       "</table>\n",
       "<p>191 rows × 2 columns</p>\n",
       "</div>"
      ],
      "text/plain": [
       "              country %obesity\n",
       "0               Nauru    61.00\n",
       "1        Cook Islands    55.90\n",
       "2               Palau    55.30\n",
       "3    Marshall Islands    52.90\n",
       "4              Tuvalu    51.60\n",
       "..                ...      ...\n",
       "186          Cambodia     3.90\n",
       "187             India     3.90\n",
       "188       Timor-Leste     3.80\n",
       "189        Bangladesh     3.60\n",
       "190           Vietnam     2.10\n",
       "\n",
       "[191 rows x 2 columns]"
      ]
     },
     "execution_count": 14,
     "metadata": {},
     "output_type": "execute_result"
    }
   ],
   "source": [
    "obesidad2.columns = columnas\n",
    "obesidad2"
   ]
  },
  {
   "cell_type": "markdown",
   "id": "595e89dc",
   "metadata": {},
   "source": [
    "Procedemos a quedarnos con los 11 países seleccionados: España, Francia, Italia, Grecia, Turquía, Estados Unidos, China, India, México, Nueva Zelanda y Reino Unido. "
   ]
  },
  {
   "cell_type": "code",
   "execution_count": 15,
   "id": "30d2c1f2",
   "metadata": {},
   "outputs": [],
   "source": [
    "España = obesidad2[obesidad2[\"country\"]==\"Spain\"]\n",
    "Francia = obesidad2[obesidad2[\"country\"]==\"France\"]\n",
    "Italia = obesidad2[obesidad2[\"country\"]==\"Italy\"]\n",
    "Grecia = obesidad2[obesidad2[\"country\"]==\"Greece\"]\n",
    "Turquia = obesidad2[obesidad2[\"country\"]==\"Turkey\"]\n",
    "USA = obesidad2[obesidad2[\"country\"]==\"United States\"]\n",
    "China = obesidad2[obesidad2[\"country\"]==\"China\"]\n",
    "India = obesidad2[obesidad2[\"country\"]==\"India\"]\n",
    "Mexico = obesidad2[obesidad2[\"country\"]==\"Mexico\"]\n",
    "Nueva_Zelanda = obesidad2[obesidad2[\"country\"]==\"New Zealand\"]\n",
    "Reino_Unido = obesidad2[obesidad2[\"country\"]==\"United Kingdom\"]\n",
    "\n",
    "paises = [España, Francia, Italia, Grecia, Turquia, USA, China, India, Mexico, Nueva_Zelanda, Reino_Unido]"
   ]
  },
  {
   "cell_type": "code",
   "execution_count": 16,
   "id": "b0c3140e",
   "metadata": {},
   "outputs": [
    {
     "data": {
      "text/html": [
       "<div>\n",
       "<style scoped>\n",
       "    .dataframe tbody tr th:only-of-type {\n",
       "        vertical-align: middle;\n",
       "    }\n",
       "\n",
       "    .dataframe tbody tr th {\n",
       "        vertical-align: top;\n",
       "    }\n",
       "\n",
       "    .dataframe thead th {\n",
       "        text-align: right;\n",
       "    }\n",
       "</style>\n",
       "<table border=\"1\" class=\"dataframe\">\n",
       "  <thead>\n",
       "    <tr style=\"text-align: right;\">\n",
       "      <th></th>\n",
       "      <th>country</th>\n",
       "      <th>%obesity</th>\n",
       "    </tr>\n",
       "  </thead>\n",
       "  <tbody>\n",
       "    <tr>\n",
       "      <th>61</th>\n",
       "      <td>Spain</td>\n",
       "      <td>23.80</td>\n",
       "    </tr>\n",
       "    <tr>\n",
       "      <th>86</th>\n",
       "      <td>France</td>\n",
       "      <td>21.60</td>\n",
       "    </tr>\n",
       "    <tr>\n",
       "      <th>106</th>\n",
       "      <td>Italy</td>\n",
       "      <td>19.90</td>\n",
       "    </tr>\n",
       "    <tr>\n",
       "      <th>53</th>\n",
       "      <td>Greece</td>\n",
       "      <td>24.90</td>\n",
       "    </tr>\n",
       "    <tr>\n",
       "      <th>16</th>\n",
       "      <td>Turkey</td>\n",
       "      <td>32.10</td>\n",
       "    </tr>\n",
       "    <tr>\n",
       "      <th>11</th>\n",
       "      <td>United States</td>\n",
       "      <td>36.20</td>\n",
       "    </tr>\n",
       "    <tr>\n",
       "      <th>168</th>\n",
       "      <td>China</td>\n",
       "      <td>6.20</td>\n",
       "    </tr>\n",
       "    <tr>\n",
       "      <th>187</th>\n",
       "      <td>India</td>\n",
       "      <td>3.90</td>\n",
       "    </tr>\n",
       "    <tr>\n",
       "      <th>28</th>\n",
       "      <td>Mexico</td>\n",
       "      <td>28.90</td>\n",
       "    </tr>\n",
       "    <tr>\n",
       "      <th>21</th>\n",
       "      <td>New Zealand</td>\n",
       "      <td>30.80</td>\n",
       "    </tr>\n",
       "    <tr>\n",
       "      <th>35</th>\n",
       "      <td>United Kingdom</td>\n",
       "      <td>27.80</td>\n",
       "    </tr>\n",
       "  </tbody>\n",
       "</table>\n",
       "</div>"
      ],
      "text/plain": [
       "            country %obesity\n",
       "61            Spain    23.80\n",
       "86           France    21.60\n",
       "106           Italy    19.90\n",
       "53           Greece    24.90\n",
       "16           Turkey    32.10\n",
       "11    United States    36.20\n",
       "168           China     6.20\n",
       "187           India     3.90\n",
       "28           Mexico    28.90\n",
       "21      New Zealand    30.80\n",
       "35   United Kingdom    27.80"
      ]
     },
     "execution_count": 16,
     "metadata": {},
     "output_type": "execute_result"
    }
   ],
   "source": [
    "obesidad2 = pd.concat(paises)#Filtramos los países seleccionados\n",
    "obesidad2"
   ]
  },
  {
   "cell_type": "code",
   "execution_count": 17,
   "id": "37cd005f",
   "metadata": {},
   "outputs": [
    {
     "data": {
      "text/html": [
       "<div>\n",
       "<style scoped>\n",
       "    .dataframe tbody tr th:only-of-type {\n",
       "        vertical-align: middle;\n",
       "    }\n",
       "\n",
       "    .dataframe tbody tr th {\n",
       "        vertical-align: top;\n",
       "    }\n",
       "\n",
       "    .dataframe thead th {\n",
       "        text-align: right;\n",
       "    }\n",
       "</style>\n",
       "<table border=\"1\" class=\"dataframe\">\n",
       "  <thead>\n",
       "    <tr style=\"text-align: right;\">\n",
       "      <th></th>\n",
       "      <th>country</th>\n",
       "      <th>%obesity</th>\n",
       "    </tr>\n",
       "  </thead>\n",
       "  <tbody>\n",
       "    <tr>\n",
       "      <th>0</th>\n",
       "      <td>Spain</td>\n",
       "      <td>23.80</td>\n",
       "    </tr>\n",
       "    <tr>\n",
       "      <th>1</th>\n",
       "      <td>France</td>\n",
       "      <td>21.60</td>\n",
       "    </tr>\n",
       "    <tr>\n",
       "      <th>2</th>\n",
       "      <td>Italy</td>\n",
       "      <td>19.90</td>\n",
       "    </tr>\n",
       "    <tr>\n",
       "      <th>3</th>\n",
       "      <td>Greece</td>\n",
       "      <td>24.90</td>\n",
       "    </tr>\n",
       "    <tr>\n",
       "      <th>4</th>\n",
       "      <td>Turkey</td>\n",
       "      <td>32.10</td>\n",
       "    </tr>\n",
       "    <tr>\n",
       "      <th>5</th>\n",
       "      <td>United States</td>\n",
       "      <td>36.20</td>\n",
       "    </tr>\n",
       "    <tr>\n",
       "      <th>6</th>\n",
       "      <td>China</td>\n",
       "      <td>6.20</td>\n",
       "    </tr>\n",
       "    <tr>\n",
       "      <th>7</th>\n",
       "      <td>India</td>\n",
       "      <td>3.90</td>\n",
       "    </tr>\n",
       "    <tr>\n",
       "      <th>8</th>\n",
       "      <td>Mexico</td>\n",
       "      <td>28.90</td>\n",
       "    </tr>\n",
       "    <tr>\n",
       "      <th>9</th>\n",
       "      <td>New Zealand</td>\n",
       "      <td>30.80</td>\n",
       "    </tr>\n",
       "    <tr>\n",
       "      <th>10</th>\n",
       "      <td>United Kingdom</td>\n",
       "      <td>27.80</td>\n",
       "    </tr>\n",
       "  </tbody>\n",
       "</table>\n",
       "</div>"
      ],
      "text/plain": [
       "           country %obesity\n",
       "0            Spain    23.80\n",
       "1           France    21.60\n",
       "2            Italy    19.90\n",
       "3           Greece    24.90\n",
       "4           Turkey    32.10\n",
       "5    United States    36.20\n",
       "6            China     6.20\n",
       "7            India     3.90\n",
       "8           Mexico    28.90\n",
       "9      New Zealand    30.80\n",
       "10  United Kingdom    27.80"
      ]
     },
     "execution_count": 17,
     "metadata": {},
     "output_type": "execute_result"
    }
   ],
   "source": [
    "obesidad2 = obesidad2.reset_index(drop=True)#Reestructuramos el índice\n",
    "obesidad2"
   ]
  },
  {
   "cell_type": "markdown",
   "id": "8b357723",
   "metadata": {},
   "source": [
    "## Exportación del dataset final 🚀"
   ]
  },
  {
   "cell_type": "code",
   "execution_count": 18,
   "id": "afbecd55",
   "metadata": {},
   "outputs": [],
   "source": [
    "obesidad_data = obesidad2\n",
    "obesidad_data.to_csv(\"./obesidad_data.csv\") #Exportación del DataFrame"
   ]
  },
  {
   "cell_type": "markdown",
   "id": "46e44a14",
   "metadata": {},
   "source": [
    "## Extra ⭐"
   ]
  },
  {
   "cell_type": "markdown",
   "id": "f8347946",
   "metadata": {},
   "source": [
    "A propósito de enriquecer más nuestro estudio, procederemos a extraer los datos en materia a la diabetes para analizar si resulta también un factor de riesgo para el COVID-19. La metodología empleada ha sido la misma que para la información de la obesidad. La fuente de datos escogida ha sido Indexmundi. "
   ]
  },
  {
   "cell_type": "code",
   "execution_count": 19,
   "id": "7af5d979",
   "metadata": {},
   "outputs": [
    {
     "data": {
      "text/plain": [
       "[['Rank', 'Country', 'Value', 'Year'], ['1', 'Kiribati', '22.50', '2019']]"
      ]
     },
     "execution_count": 19,
     "metadata": {},
     "output_type": "execute_result"
    }
   ],
   "source": [
    "#Selección de los datos\n",
    "url_diabetes = \"https://www.indexmundi.com/facts/indicators/SH.STA.DIAB.ZS/rankings\"\n",
    "html_diabetes = requests.get(url_diabetes)\n",
    "soup = BeautifulSoup(html_diabetes.content, \"html.parser\")\n",
    "\n",
    "#document.querySelectorAll(\"Table\").forEach(elm => elm.style.background = 'red')\n",
    "table2 = soup.find(\"table\")\n",
    "\n",
    "#Reorganización de la tabla\n",
    "rows2 = table2.find_all(\"tr\")\n",
    "rows2 = [row.text.replace(\"\\n\\n\", \",\").replace(\"\\n\", \",\").replace(\"\\xa0\", \"\").strip(\",\").split(\",\") for row in rows2]\n",
    "rows2 [:2]"
   ]
  },
  {
   "cell_type": "code",
   "execution_count": 20,
   "id": "9ae3fe7f",
   "metadata": {},
   "outputs": [],
   "source": [
    "#Creación del dataset\n",
    "nombre_columnas2 = rows2[0]\n",
    "data2 = rows2[1:]\n",
    "diabetes = pd.DataFrame(data2)\n",
    "#diabetes.head(10)"
   ]
  },
  {
   "cell_type": "code",
   "execution_count": 21,
   "id": "1f031b66",
   "metadata": {},
   "outputs": [],
   "source": [
    "#Renombramos las columnas\n",
    "diabetes.columns = [\"rank\",\"country\",\"%diabetes\",\"year\",\"none\"]"
   ]
  },
  {
   "cell_type": "code",
   "execution_count": 22,
   "id": "0ff520c7",
   "metadata": {},
   "outputs": [
    {
     "data": {
      "text/html": [
       "<div>\n",
       "<style scoped>\n",
       "    .dataframe tbody tr th:only-of-type {\n",
       "        vertical-align: middle;\n",
       "    }\n",
       "\n",
       "    .dataframe tbody tr th {\n",
       "        vertical-align: top;\n",
       "    }\n",
       "\n",
       "    .dataframe thead th {\n",
       "        text-align: right;\n",
       "    }\n",
       "</style>\n",
       "<table border=\"1\" class=\"dataframe\">\n",
       "  <thead>\n",
       "    <tr style=\"text-align: right;\">\n",
       "      <th></th>\n",
       "      <th>country</th>\n",
       "      <th>%diabetes</th>\n",
       "    </tr>\n",
       "  </thead>\n",
       "  <tbody>\n",
       "    <tr>\n",
       "      <th>0</th>\n",
       "      <td>Kiribati</td>\n",
       "      <td>22.50</td>\n",
       "    </tr>\n",
       "    <tr>\n",
       "      <th>1</th>\n",
       "      <td>Sudan</td>\n",
       "      <td>22.10</td>\n",
       "    </tr>\n",
       "    <tr>\n",
       "      <th>2</th>\n",
       "      <td>Tuvalu</td>\n",
       "      <td>22.10</td>\n",
       "    </tr>\n",
       "    <tr>\n",
       "      <th>3</th>\n",
       "      <td>Mauritius</td>\n",
       "      <td>22.00</td>\n",
       "    </tr>\n",
       "    <tr>\n",
       "      <th>4</th>\n",
       "      <td>New Caledonia</td>\n",
       "      <td>21.80</td>\n",
       "    </tr>\n",
       "    <tr>\n",
       "      <th>...</th>\n",
       "      <td>...</td>\n",
       "      <td>...</td>\n",
       "    </tr>\n",
       "    <tr>\n",
       "      <th>190</th>\n",
       "      <td>Senegal</td>\n",
       "      <td>2.40</td>\n",
       "    </tr>\n",
       "    <tr>\n",
       "      <th>191</th>\n",
       "      <td>Greenland</td>\n",
       "      <td>2.10</td>\n",
       "    </tr>\n",
       "    <tr>\n",
       "      <th>192</th>\n",
       "      <td>The Gambia</td>\n",
       "      <td>1.90</td>\n",
       "    </tr>\n",
       "    <tr>\n",
       "      <th>193</th>\n",
       "      <td>Zimbabwe</td>\n",
       "      <td>1.80</td>\n",
       "    </tr>\n",
       "    <tr>\n",
       "      <th>194</th>\n",
       "      <td>Benin</td>\n",
       "      <td>1.00</td>\n",
       "    </tr>\n",
       "  </tbody>\n",
       "</table>\n",
       "<p>195 rows × 2 columns</p>\n",
       "</div>"
      ],
      "text/plain": [
       "           country %diabetes\n",
       "0         Kiribati     22.50\n",
       "1            Sudan     22.10\n",
       "2           Tuvalu     22.10\n",
       "3        Mauritius     22.00\n",
       "4    New Caledonia     21.80\n",
       "..             ...       ...\n",
       "190        Senegal      2.40\n",
       "191      Greenland      2.10\n",
       "192     The Gambia      1.90\n",
       "193       Zimbabwe      1.80\n",
       "194          Benin      1.00\n",
       "\n",
       "[195 rows x 2 columns]"
      ]
     },
     "execution_count": 22,
     "metadata": {},
     "output_type": "execute_result"
    }
   ],
   "source": [
    "#Eliminamos las columnas que no necesitamos\n",
    "diabetes2 = diabetes.drop ([\"rank\",\"year\",\"none\"],axis=1)\n",
    "diabetes2"
   ]
  },
  {
   "cell_type": "code",
   "execution_count": 23,
   "id": "2e0fefea",
   "metadata": {},
   "outputs": [
    {
     "data": {
      "text/html": [
       "<div>\n",
       "<style scoped>\n",
       "    .dataframe tbody tr th:only-of-type {\n",
       "        vertical-align: middle;\n",
       "    }\n",
       "\n",
       "    .dataframe tbody tr th {\n",
       "        vertical-align: top;\n",
       "    }\n",
       "\n",
       "    .dataframe thead th {\n",
       "        text-align: right;\n",
       "    }\n",
       "</style>\n",
       "<table border=\"1\" class=\"dataframe\">\n",
       "  <thead>\n",
       "    <tr style=\"text-align: right;\">\n",
       "      <th></th>\n",
       "      <th>country</th>\n",
       "      <th>%diabetes</th>\n",
       "    </tr>\n",
       "  </thead>\n",
       "  <tbody>\n",
       "    <tr>\n",
       "      <th>94</th>\n",
       "      <td>Spain</td>\n",
       "      <td>6.90</td>\n",
       "    </tr>\n",
       "    <tr>\n",
       "      <th>155</th>\n",
       "      <td>France</td>\n",
       "      <td>4.80</td>\n",
       "    </tr>\n",
       "    <tr>\n",
       "      <th>151</th>\n",
       "      <td>Italy</td>\n",
       "      <td>5.00</td>\n",
       "    </tr>\n",
       "    <tr>\n",
       "      <th>156</th>\n",
       "      <td>Greece</td>\n",
       "      <td>4.70</td>\n",
       "    </tr>\n",
       "    <tr>\n",
       "      <th>40</th>\n",
       "      <td>Turkey</td>\n",
       "      <td>11.10</td>\n",
       "    </tr>\n",
       "    <tr>\n",
       "      <th>42</th>\n",
       "      <td>United States</td>\n",
       "      <td>10.80</td>\n",
       "    </tr>\n",
       "    <tr>\n",
       "      <th>61</th>\n",
       "      <td>China</td>\n",
       "      <td>9.20</td>\n",
       "    </tr>\n",
       "    <tr>\n",
       "      <th>45</th>\n",
       "      <td>India</td>\n",
       "      <td>10.40</td>\n",
       "    </tr>\n",
       "    <tr>\n",
       "      <th>19</th>\n",
       "      <td>Mexico</td>\n",
       "      <td>13.50</td>\n",
       "    </tr>\n",
       "    <tr>\n",
       "      <th>108</th>\n",
       "      <td>New Zealand</td>\n",
       "      <td>6.20</td>\n",
       "    </tr>\n",
       "    <tr>\n",
       "      <th>171</th>\n",
       "      <td>United Kingdom</td>\n",
       "      <td>3.90</td>\n",
       "    </tr>\n",
       "  </tbody>\n",
       "</table>\n",
       "</div>"
      ],
      "text/plain": [
       "            country %diabetes\n",
       "94            Spain      6.90\n",
       "155          France      4.80\n",
       "151           Italy      5.00\n",
       "156          Greece      4.70\n",
       "40           Turkey     11.10\n",
       "42    United States     10.80\n",
       "61            China      9.20\n",
       "45            India     10.40\n",
       "19           Mexico     13.50\n",
       "108     New Zealand      6.20\n",
       "171  United Kingdom      3.90"
      ]
     },
     "execution_count": 23,
     "metadata": {},
     "output_type": "execute_result"
    }
   ],
   "source": [
    "#Filtramos por los países seleccionados\n",
    "España = diabetes2[diabetes2[\"country\"]==\"Spain\"]\n",
    "Francia = diabetes2[diabetes2[\"country\"]==\"France\"]\n",
    "Italia = diabetes2[diabetes2[\"country\"]==\"Italy\"]\n",
    "Grecia = diabetes2[diabetes2[\"country\"]==\"Greece\"]\n",
    "Turquia = diabetes2[diabetes2[\"country\"]==\"Turkey\"]\n",
    "USA = diabetes2[diabetes2[\"country\"]==\"United States\"]\n",
    "China = diabetes2[diabetes2[\"country\"]==\"China\"]\n",
    "India = diabetes2[diabetes2[\"country\"]==\"India\"]\n",
    "Mexico = diabetes2[diabetes2[\"country\"]==\"Mexico\"]\n",
    "Nueva_Zelanda = diabetes2[diabetes2[\"country\"]==\"New Zealand\"]\n",
    "Reino_Unido = diabetes2[diabetes2[\"country\"]==\"United Kingdom\"]\n",
    "\n",
    "paises2 = [España, Francia, Italia, Grecia, Turquia, USA, China, India, Mexico, Nueva_Zelanda, Reino_Unido]\n",
    "\n",
    "diabetes2 = pd.concat(paises2)\n",
    "diabetes2"
   ]
  },
  {
   "cell_type": "code",
   "execution_count": 24,
   "id": "d1a6062a",
   "metadata": {},
   "outputs": [
    {
     "data": {
      "text/html": [
       "<div>\n",
       "<style scoped>\n",
       "    .dataframe tbody tr th:only-of-type {\n",
       "        vertical-align: middle;\n",
       "    }\n",
       "\n",
       "    .dataframe tbody tr th {\n",
       "        vertical-align: top;\n",
       "    }\n",
       "\n",
       "    .dataframe thead th {\n",
       "        text-align: right;\n",
       "    }\n",
       "</style>\n",
       "<table border=\"1\" class=\"dataframe\">\n",
       "  <thead>\n",
       "    <tr style=\"text-align: right;\">\n",
       "      <th></th>\n",
       "      <th>country</th>\n",
       "      <th>%diabetes</th>\n",
       "    </tr>\n",
       "  </thead>\n",
       "  <tbody>\n",
       "    <tr>\n",
       "      <th>0</th>\n",
       "      <td>Spain</td>\n",
       "      <td>6.90</td>\n",
       "    </tr>\n",
       "    <tr>\n",
       "      <th>1</th>\n",
       "      <td>France</td>\n",
       "      <td>4.80</td>\n",
       "    </tr>\n",
       "    <tr>\n",
       "      <th>2</th>\n",
       "      <td>Italy</td>\n",
       "      <td>5.00</td>\n",
       "    </tr>\n",
       "    <tr>\n",
       "      <th>3</th>\n",
       "      <td>Greece</td>\n",
       "      <td>4.70</td>\n",
       "    </tr>\n",
       "    <tr>\n",
       "      <th>4</th>\n",
       "      <td>Turkey</td>\n",
       "      <td>11.10</td>\n",
       "    </tr>\n",
       "    <tr>\n",
       "      <th>5</th>\n",
       "      <td>United States</td>\n",
       "      <td>10.80</td>\n",
       "    </tr>\n",
       "    <tr>\n",
       "      <th>6</th>\n",
       "      <td>China</td>\n",
       "      <td>9.20</td>\n",
       "    </tr>\n",
       "    <tr>\n",
       "      <th>7</th>\n",
       "      <td>India</td>\n",
       "      <td>10.40</td>\n",
       "    </tr>\n",
       "    <tr>\n",
       "      <th>8</th>\n",
       "      <td>Mexico</td>\n",
       "      <td>13.50</td>\n",
       "    </tr>\n",
       "    <tr>\n",
       "      <th>9</th>\n",
       "      <td>New Zealand</td>\n",
       "      <td>6.20</td>\n",
       "    </tr>\n",
       "    <tr>\n",
       "      <th>10</th>\n",
       "      <td>United Kingdom</td>\n",
       "      <td>3.90</td>\n",
       "    </tr>\n",
       "  </tbody>\n",
       "</table>\n",
       "</div>"
      ],
      "text/plain": [
       "           country %diabetes\n",
       "0            Spain      6.90\n",
       "1           France      4.80\n",
       "2            Italy      5.00\n",
       "3           Greece      4.70\n",
       "4           Turkey     11.10\n",
       "5    United States     10.80\n",
       "6            China      9.20\n",
       "7            India     10.40\n",
       "8           Mexico     13.50\n",
       "9      New Zealand      6.20\n",
       "10  United Kingdom      3.90"
      ]
     },
     "execution_count": 24,
     "metadata": {},
     "output_type": "execute_result"
    }
   ],
   "source": [
    "#Reestructuramos el índice\n",
    "diabetes2 = diabetes2.reset_index(drop=True)\n",
    "diabetes2"
   ]
  },
  {
   "cell_type": "code",
   "execution_count": 25,
   "id": "2721a0df",
   "metadata": {},
   "outputs": [],
   "source": [
    "#Exportamos el dataframe\n",
    "diabetes_data = diabetes2\n",
    "diabetes_data.to_csv(\"./diabetes_data.csv\")"
   ]
  }
 ],
 "metadata": {
  "kernelspec": {
   "display_name": "OLAYA1",
   "language": "python",
   "name": "olaya1"
  },
  "language_info": {
   "codemirror_mode": {
    "name": "ipython",
    "version": 3
   },
   "file_extension": ".py",
   "mimetype": "text/x-python",
   "name": "python",
   "nbconvert_exporter": "python",
   "pygments_lexer": "ipython3",
   "version": "3.8.5"
  }
 },
 "nbformat": 4,
 "nbformat_minor": 5
}
